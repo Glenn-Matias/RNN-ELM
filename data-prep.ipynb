{
 "cells": [
  {
   "cell_type": "code",
   "execution_count": 19,
   "metadata": {},
   "outputs": [
    {
     "name": "stderr",
     "output_type": "stream",
     "text": [
      "/var/folders/mp/_ytz6fls4_925m8gpwv_x9780000gn/T/ipykernel_12646/761327602.py:3: FutureWarning: The squeeze argument has been deprecated and will be removed in a future version. Append .squeeze(\"columns\") to the call to squeeze.\n",
      "\n",
      "\n",
      "  dictio= pd.read_csv('data/full.csv', index_col=1, squeeze=True).to_dict()\n"
     ]
    }
   ],
   "source": [
    "import pandas as pd\n",
    "from collections import OrderedDict\n",
    "dictio= pd.read_csv('data/full.csv', index_col=1, squeeze=True).to_dict()\n",
    "dictio = OrderedDict(dictio)"
   ]
  },
  {
   "cell_type": "code",
   "execution_count": 38,
   "metadata": {},
   "outputs": [
    {
     "name": "stdout",
     "output_type": "stream",
     "text": [
      "                                                   text  class\n",
      "1376  Ayon kay Rowena Paraan, chairperson ng Nationa...      0\n",
      "2996  Patuloy ang paggawa ng Duterte administration ...      1\n",
      "1876  Sari-saring kontrobersiya ang kinasasangkutan ...      1\n",
      "2898  Nilagdaan ni Pangulong Rodrigo Duterte ang pan...      1\n",
      "2884  Sa pagsukong ginawa ni Joemel Advincula sa Nor...      1\n",
      "...                                                 ...    ...\n",
      "2603  Ipinahayag ni Communications Secretary Martin ...      1\n",
      "2244  Ibinunyag ng dating liaison officer ng Elector...      1\n",
      "2879  Para sa mga nag aabang ng Social Security Cont...      1\n",
      "345   Kahit ang baguhang si Arra, hindi nagpahuli sa...      0\n",
      "434   Isinampa kahapon ng BOC ang kaso laban kina El...      0\n",
      "\n",
      "[2564 rows x 2 columns]\n"
     ]
    }
   ],
   "source": [
    "from sklearn.model_selection import train_test_split\n",
    "\n",
    "df = pd.read_csv('data/full.csv')\n",
    "\n",
    "df['class'] = df['label']\n",
    "df['text'] = df['article']\n",
    "df = df[['text', 'class']]\n",
    "\n",
    "train, test = train_test_split(df, test_size=0.2)\n",
    "\n",
    "print(train)\n"
   ]
  },
  {
   "cell_type": "code",
   "execution_count": 1,
   "metadata": {},
   "outputs": [],
   "source": [
    "# train_data = OrderedDict(dict(train.values))\n",
    "# train_data.keys()"
   ]
  },
  {
   "cell_type": "code",
   "execution_count": null,
   "metadata": {},
   "outputs": [],
   "source": [
    "import pandas as pd\n"
   ]
  },
  {
   "cell_type": "code",
   "execution_count": null,
   "metadata": {},
   "outputs": [],
   "source": []
  }
 ],
 "metadata": {
  "kernelspec": {
   "display_name": "Python 3.10.4 64-bit",
   "language": "python",
   "name": "python3"
  },
  "language_info": {
   "codemirror_mode": {
    "name": "ipython",
    "version": 3
   },
   "file_extension": ".py",
   "mimetype": "text/x-python",
   "name": "python",
   "nbconvert_exporter": "python",
   "pygments_lexer": "ipython3",
   "version": "3.10.4"
  },
  "orig_nbformat": 4,
  "vscode": {
   "interpreter": {
    "hash": "aee8b7b246df8f9039afb4144a1f6fd8d2ca17a180786b69acc140d282b71a49"
   }
  }
 },
 "nbformat": 4,
 "nbformat_minor": 2
}
